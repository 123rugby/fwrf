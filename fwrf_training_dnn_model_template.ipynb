{
 "cells": [
  {
   "cell_type": "code",
   "execution_count": 1,
   "metadata": {
    "collapsed": false
   },
   "outputs": [
    {
     "name": "stderr",
     "output_type": "stream",
     "text": [
      "WARNING (theano.sandbox.cuda): The cuda backend is deprecated and will be removed in the next release (v0.10).  Please switch to the gpuarray backend. You can get more information about how to switch at this URL:\n",
      " https://github.com/Theano/Theano/wiki/Converting-to-the-new-gpu-back-end%28gpuarray%29\n",
      "\n",
      "WARNING:theano.sandbox.cuda:The cuda backend is deprecated and will be removed in the next release (v0.10).  Please switch to the gpuarray backend. You can get more information about how to switch at this URL:\n",
      " https://github.com/Theano/Theano/wiki/Converting-to-the-new-gpu-back-end%28gpuarray%29\n",
      "\n",
      "Using gpu device 0: GeForce GTX TITAN X (CNMeM is disabled, cuDNN 5103)\n"
     ]
    }
   ],
   "source": [
    "import theano.sandbox.cuda\n",
    "theano.sandbox.cuda.use('gpu0') # some other variable would need to be set with the gpuarray backend"
   ]
  },
  {
   "cell_type": "code",
   "execution_count": 2,
   "metadata": {
    "collapsed": false
   },
   "outputs": [
    {
     "name": "stdout",
     "output_type": "stream",
     "text": [
      "theano floatX: float32\n",
      "numpy floatX: <type 'numpy.float32'>\n"
     ]
    }
   ],
   "source": [
    "import sys\n",
    "import os\n",
    "import struct\n",
    "import time\n",
    "import numpy as np\n",
    "import h5py\n",
    "import scipy.io as sio\n",
    "from scipy.stats import pearsonr\n",
    "from scipy import ndimage as nd\n",
    "from scipy import misc\n",
    "from tqdm import tqdm\n",
    "import pickle\n",
    "import math\n",
    "import matplotlib.pyplot as plt\n",
    "import PIL.Image as pim\n",
    "from mpl_toolkits.mplot3d import Axes3D\n",
    "%matplotlib inline\n",
    "\n",
    "import theano\n",
    "import theano.tensor as T\n",
    "\n",
    "import src.pyNumpyUtility as pnu\n",
    "import src.pyFWRF as prf    \n",
    "from src.pyFWRF import FWRF_model, fpX"
   ]
  },
  {
   "cell_type": "code",
   "execution_count": 3,
   "metadata": {
    "collapsed": true
   },
   "outputs": [],
   "source": [
    "# folder in which resides the vim-1, dataset, the precalculated feature space and the image dataset.\n",
    "dataset_dir = \"/home/styvesg/Documents/PostDoc/Datasets/vim-1/\""
   ]
  },
  {
   "cell_type": "code",
   "execution_count": 4,
   "metadata": {
    "collapsed": false
   },
   "outputs": [
    {
     "name": "stdout",
     "output_type": "stream",
     "text": [
      "Time Stamp: May-09-2017_1307\n"
     ]
    }
   ],
   "source": [
    "timestamp = time.strftime('%b-%d-%Y_%H%M', time.localtime())\n",
    "\n",
    "root_dir   = os.getcwd() + '/'\n",
    "output_dir = root_dir+\"output/\"\n",
    "\n",
    "print \"Time Stamp: %s\" % timestamp"
   ]
  },
  {
   "cell_type": "code",
   "execution_count": 5,
   "metadata": {
    "collapsed": true
   },
   "outputs": [],
   "source": [
    "def save_stuff(save_to_this_file, data_objects_dict):\n",
    "    failed = []\n",
    "    with h5py.File(save_to_this_file+'.h5py', 'w') as hf:\n",
    "        for k,v in data_objects_dict.iteritems():\n",
    "            try:\n",
    "                hf.create_dataset(k,data=v)\n",
    "                print 'saved %s in h5py file' %(k)\n",
    "            except:\n",
    "                failed.append(k)\n",
    "                print 'failed to save %s as h5py. will try pickle' %(k)   \n",
    "    for k in failed:\n",
    "        with open(save_to_this_file+'_'+'%s.pkl' %(k), 'w') as pkl:\n",
    "            try:\n",
    "                pickle.dump(data_objects_dict[k],pkl)\n",
    "                print 'saved %s as pkl' %(k)\n",
    "            except:\n",
    "                print 'failed to save %s in any format. lost.' %(k)\n",
    "                \n",
    "def display_candidate_loss(scores, nx, ny, ns):\n",
    "    dis_y = ns // 3 if ns%3==0 else ns//3+1\n",
    "    s = scores.reshape((nx, ny, ns)).transpose((1,0,2))[::-1,:,:] ## The transpose and flip is just so that the candidate \n",
    "    #coordinate maatch the normal cartesian coordinate of the rf position when viewed through imshow.\n",
    "    idxs = np.unravel_index(np.argmin(s), (nx,ny,ns))\n",
    "    best = plt.Circle((idxs[1], idxs[0]), 0.5, color='r', fill=False, lw=2)\n",
    "    \n",
    "    fig = plt.figure(figsize=(15, 5*dis_y))\n",
    "    smin = np.min(s)\n",
    "    smax = np.max(s)\n",
    "    print \"score range = (%f, %f)\" % (smin, smax)\n",
    "    for i in range(ns):\n",
    "        plt.subplot(dis_y, 3, i+1)\n",
    "        plt.imshow(s[:,:,i], interpolation='None')\n",
    "        plt.title('sigma canditate = %d' % i)\n",
    "        plt.clim(smin, smax)\n",
    "        if(idxs[2]==i):\n",
    "            ax = plt.gca()\n",
    "            ax.add_artist(best)\n",
    "    return fig"
   ]
  },
  {
   "cell_type": "markdown",
   "metadata": {},
   "source": [
    "# 1a) Load the low-rez images presented."
   ]
  },
  {
   "cell_type": "code",
   "execution_count": 6,
   "metadata": {
    "collapsed": false
   },
   "outputs": [
    {
     "name": "stdout",
     "output_type": "stream",
     "text": [
      "['seqTrn', '__header__', '__globals__', 'stimVal', 'seqVal', 'stimTrn', '__version__']\n"
     ]
    }
   ],
   "source": [
    "inputdata_lowrez = sio.loadmat(dataset_dir + \"Stimuli.mat\")\n",
    "print inputdata_lowrez.keys()"
   ]
  },
  {
   "cell_type": "code",
   "execution_count": 7,
   "metadata": {
    "collapsed": false
   },
   "outputs": [
    {
     "name": "stdout",
     "output_type": "stream",
     "text": [
      "trn: 1750, val: 120\n",
      "Data shape = (1870, 3, 96, 96)\n"
     ]
    }
   ],
   "source": [
    "npx = 96\n",
    "npc = 3\n",
    "\n",
    "trn_size = len(inputdata_lowrez[\"stimTrn\"])\n",
    "val_size = len(inputdata_lowrez[\"stimVal\"])\n",
    "data_size = trn_size + val_size\n",
    "\n",
    "print \"trn: %d, val: %d\" % (trn_size, val_size)\n",
    "stim_data = np.ndarray(shape=(data_size, npx, npx, npc), dtype=fpX)\n",
    "\n",
    "for i,rawim in enumerate(inputdata_lowrez[\"stimTrn\"]):\n",
    "    rawmin, rawmax = np.min(rawim), np.max(rawim)\n",
    "    sim = (rawim - rawmin) * 255 / (rawmax - rawmin)               \n",
    "    im = pim.fromarray(sim, mode='F').resize((npx, npx), resample=pim.BILINEAR).convert('RGB')\n",
    "    stim_data[i,...] = np.asarray(im)\n",
    "\n",
    "for i,rawim in enumerate(inputdata_lowrez[\"stimVal\"]):\n",
    "    rawmin, rawmax = np.min(rawim), np.max(rawim)\n",
    "    sim = (rawim - rawmin) * 255 / (rawmax - rawmin)         \n",
    "    im = pim.fromarray(sim, mode='F').resize((npx, npx), resample=pim.BILINEAR).convert('RGB')\n",
    "    stim_data[trn_size+i,...] = np.asarray(im)\n",
    "        \n",
    "stim_data = np.transpose((stim_data - 128) / 128, (0,3,1,2))\n",
    "print \"Data shape = %s\" % (stim_data.shape,)\n",
    "\n",
    "trn_stim_data = stim_data[:trn_size]\n",
    "val_stim_data = stim_data[trn_size:]"
   ]
  },
  {
   "cell_type": "markdown",
   "metadata": {},
   "source": [
    "# 1b) Load the voxel data for all images presented."
   ]
  },
  {
   "cell_type": "code",
   "execution_count": 8,
   "metadata": {
    "collapsed": false
   },
   "outputs": [
    {
     "name": "stdout",
     "output_type": "stream",
     "text": [
      "[u'dataTrnS1', u'dataTrnS2', u'dataValS1', u'dataValS2', u'roiS1', u'roiS2', u'voxIdxS1', u'voxIdxS2']\n"
     ]
    }
   ],
   "source": [
    "voxelset = h5py.File(dataset_dir + \"EstimatedResponses.mat\")\n",
    "print voxelset.keys()"
   ]
  },
  {
   "cell_type": "code",
   "execution_count": 9,
   "metadata": {
    "collapsed": true
   },
   "outputs": [],
   "source": [
    "subject = 'S1'\n",
    "roi_names = ['other', 'V1', 'V2', 'V3', 'V3a', 'V3b', 'V4', 'LO']"
   ]
  },
  {
   "cell_type": "code",
   "execution_count": 10,
   "metadata": {
    "collapsed": false
   },
   "outputs": [
    {
     "name": "stdout",
     "output_type": "stream",
     "text": [
      "(1870, 25915)\n",
      "22701 voxels contain valid values for all images\n"
     ]
    }
   ],
   "source": [
    "voxeldata = np.concatenate([voxelset['dataTrn%s'%subject], voxelset['dataVal%s'%subject]], axis=0).astype(dtype=fpX)\n",
    "voxelroi = voxelset['roi%s'%subject]\n",
    "voxelidx = voxelset['voxIdx%s'%subject]\n",
    "print voxeldata.shape\n",
    "\n",
    "# purge all voxel that have no variance in the validation set\n",
    "\n",
    "voxelNanMask = ~np.isnan(voxeldata).any(axis=0)\n",
    "nv = np.sum(voxelNanMask)\n",
    "print \"%d voxels contain valid values for all images\" % nv"
   ]
  },
  {
   "cell_type": "code",
   "execution_count": 11,
   "metadata": {
    "collapsed": false
   },
   "outputs": [
    {
     "name": "stdout",
     "output_type": "stream",
     "text": [
      "(1870, 22701)\n"
     ]
    }
   ],
   "source": [
    "voxel_data = voxeldata[:, voxelNanMask].astype(dtype=fpX)\n",
    "voxelROI  = voxelroi[:, voxelNanMask]\n",
    "voxelIDX  = voxelidx[:, voxelNanMask]\n",
    "print voxel_data.shape\n",
    "\n",
    "trn_voxel_data = voxel_data[:trn_size]\n",
    "val_voxel_data = voxel_data[trn_size:]"
   ]
  },
  {
   "cell_type": "markdown",
   "metadata": {},
   "source": [
    "## (Optional) Restricted dataset"
   ]
  },
  {
   "cell_type": "code",
   "execution_count": 12,
   "metadata": {
    "collapsed": false
   },
   "outputs": [],
   "source": [
    "nv = 300\n",
    "start_v = (3566 // nv) * nv\n",
    "trn_voxel_data = trn_voxel_data[:, start_v:start_v+nv]\n",
    "val_voxel_data = val_voxel_data[:, start_v:start_v+nv]"
   ]
  },
  {
   "cell_type": "markdown",
   "metadata": {},
   "source": [
    "# 1c) Load precomputed model feature space for all images presented."
   ]
  },
  {
   "cell_type": "code",
   "execution_count": 13,
   "metadata": {
    "collapsed": false
   },
   "outputs": [
    {
     "name": "stdout",
     "output_type": "stream",
     "text": [
      "[u'conv1', u'conv2', u'conv3', u'conv4', u'conv5', u'fc6', u'fc7', u'fc8', u'prob']\n"
     ]
    }
   ],
   "source": [
    "model_name = 'deepnet'\n",
    "\n",
    "trn_feature_dict = h5py.File(dataset_dir + \"caffe_refnet_trn_response.h5py\", 'r')   # 'r' means that hdf5 file is open in read-only mode\n",
    "val_feature_dict = h5py.File(dataset_dir + \"caffe_refnet_val_response.h5py\", 'r')\n",
    "\n",
    "layerlist = trn_feature_dict.keys()\n",
    "print layerlist"
   ]
  },
  {
   "cell_type": "code",
   "execution_count": 14,
   "metadata": {
    "collapsed": false
   },
   "outputs": [
    {
     "name": "stdout",
     "output_type": "stream",
     "text": [
      "layer: conv1, shape=(1870, 96, 55, 55)\n",
      "layer: conv2, shape=(1870, 256, 27, 27)\n",
      "layer: conv3, shape=(1870, 384, 13, 13)\n",
      "layer: conv4, shape=(1870, 384, 13, 13)\n",
      "layer: conv5, shape=(1870, 256, 13, 13)\n",
      "layer: fc6, shape=(1870, 1024, 1, 1)\n",
      "layer: fc7, shape=(1870, 1024, 1, 1)\n",
      "layer: fc8, shape=(1870, 1000, 1, 1)\n"
     ]
    }
   ],
   "source": [
    "# concatenate and sort as list\n",
    "fmap_max = 1024\n",
    "order = layerlist[0:8] #+layerlist[7:8]\n",
    "fmaps = []\n",
    "fmaps_sizes = []\n",
    "fmaps_count = 0\n",
    "for l in order:\n",
    "    fmap = np.concatenate((np.array(trn_feature_dict[l], dtype=fpX), np.array(val_feature_dict[l], dtype=fpX)), axis=0)        \n",
    "    if fmap.ndim==2:\n",
    "        fmap = fmap.reshape(fmap.shape+(1,1))\n",
    "    if fmap.shape[1]>fmap_max:\n",
    "        #select the feature map with the most variance to the dataset\n",
    "        fmap_var = np.var(fmap[:trn_size], axis=(0,2,3))\n",
    "        most_var = fmap_var.argsort()[-fmap_max:]\n",
    "        fmap = fmap[:,most_var,:,:]\n",
    "    print \"layer: %s, shape=%s\" % (l, (fmap.shape))\n",
    "    fmaps += [fmap,]\n",
    "    fmaps_sizes  += [fmap.shape,]\n",
    "    fmaps_count += fmap.shape[1]\n",
    "    \n",
    "trn_feature_dict.close()\n",
    "val_feature_dict.close()"
   ]
  },
  {
   "cell_type": "markdown",
   "metadata": {},
   "source": [
    "## Display an example of image and feature space."
   ]
  },
  {
   "cell_type": "code",
   "execution_count": 15,
   "metadata": {
    "collapsed": false
   },
   "outputs": [
    {
     "data": {
      "text/plain": [
       "<matplotlib.colorbar.Colorbar at 0x7f4f93d1d490>"
      ]
     },
     "execution_count": 15,
     "metadata": {},
     "output_type": "execute_result"
    },
    {
     "data": {
      "image/png": "[encoded data removed]",
      "text/plain": [
       "<matplotlib.figure.Figure at 0x7f4f93dce250>"
      ]
     },
     "metadata": {},
     "output_type": "display_data"
    }
   ],
   "source": [
    "plt.figure(figsize=(15,5))\n",
    "plt.subplot(1,3,1)\n",
    "plt.imshow(trn_stim_data[5,0,:,:], cmap='gray')\n",
    "plt.subplot(1,3,2)\n",
    "plt.imshow(fmaps[0][5,2,:,:], interpolation='None')\n",
    "plt.colorbar()\n",
    "plt.subplot(1,3,3)\n",
    "plt.imshow(fmaps[1][5,10,:,:], interpolation='None')\n",
    "plt.colorbar()"
   ]
  },
  {
   "cell_type": "code",
   "execution_count": 16,
   "metadata": {
    "collapsed": false
   },
   "outputs": [
    {
     "name": "stdout",
     "output_type": "stream",
     "text": [
      "float32\n"
     ]
    }
   ],
   "source": [
    "# aliases\n",
    "nf = fmaps_count\n",
    "fmaps_res_count = len(fmaps)\n",
    "\n",
    "# make sure we are using float32\n",
    "print fmaps[0].dtype"
   ]
  },
  {
   "cell_type": "markdown",
   "metadata": {},
   "source": [
    "# 2) MODELS\n",
    "### There are 4 steps to the fwRF model\n",
    "1) Define the model object fwrf (class FWRF_model), where the input and batch sizes are initialized.\n",
    "\n",
    "2) Compute the model-space tensor by calling fwrf.precompute_rfw_data(...) where one can choose a nonlinearity and normalize the final tensor.\n",
    "\n",
    "3) Run the model on the data by calling fwrf.shared_model_training(...). \"Shared model\" is the method, meaning that all voxels pick a model from the same grid.\n",
    "\n",
    "4) Run the resulting voxel models on the validation set to get an accuracy score."
   ]
  },
  {
   "cell_type": "markdown",
   "metadata": {},
   "source": [
    "## Define the inputs\n",
    "We can either connect the feature maps of the network directly or some precomputed values provided in a suitable list"
   ]
  },
  {
   "cell_type": "code",
   "execution_count": 17,
   "metadata": {
    "collapsed": false
   },
   "outputs": [],
   "source": [
    "#feature maps symbolic variables:\n",
    "_fmaps = []\n",
    "for r in range(fmaps_res_count):\n",
    "    _fmaps += [T.tensor4(),] # note this has to be done explicitely, we can't just replicate the tensor object\n",
    "_invar = _fmaps\n",
    "# vs. connecting another theano network directly:\n",
    "#_fmaps = [L.get_output(fm, deterministic=True) for fm in _aux]\n",
    "#_invar = [X,]"
   ]
  },
  {
   "cell_type": "markdown",
   "metadata": {},
   "source": [
    "## Define the search parameters"
   ]
  },
  {
   "cell_type": "code",
   "execution_count": 18,
   "metadata": {
    "collapsed": false
   },
   "outputs": [
    {
     "name": "stdout",
     "output_type": "stream",
     "text": [
      "G = 800\n",
      "\n",
      "range x\n",
      "[-9. -7. -5. -3. -1.  1.  3.  5.  7.  9.]\n",
      "range y\n",
      "[-9. -7. -5. -3. -1.  1.  3.  5.  7.  9.]\n",
      "range s\n",
      "[ 0.69999999  0.99137908  1.40404642  1.98848879  2.81620884  3.98847222\n",
      "  5.6486969   8.        ]\n"
     ]
    }
   ],
   "source": [
    "lx = ly = 20.\n",
    "nx = ny = 10\n",
    "smin, smax = 0.7, 8.\n",
    "ns = 8\n",
    "\n",
    "# sharedModel specification is a list of 3 ranges and 3 callable functor. The reason for this is for a future implementation of dynamic mesh refinement.\n",
    "sharedModel_specs = [[(0., lx), (0., ly), (smin, smax)], [prf.linspace(nx), prf.linspace(ny), prf.logspace(ns)]]\n",
    "# initial values of the fwrf model parameters\n",
    "voxelParams = [np.full(shape=(nv, nf), fill_value=0.0, dtype=fpX), np.full(shape=(nv), fill_value=0.0, dtype=fpX)]\n",
    "\n",
    "rx = sharedModel_specs[1][0](*sharedModel_specs[0][0])\n",
    "ry = sharedModel_specs[1][1](*sharedModel_specs[0][1])\n",
    "rs = sharedModel_specs[1][2](*sharedModel_specs[0][2])\n",
    "print \"G = %d\\n\" % (nx*ny*ns)\n",
    "#print range:\n",
    "print \"range x\"\n",
    "print rx\n",
    "print \"range y\"\n",
    "print ry\n",
    "print \"range s\"\n",
    "print rs"
   ]
  },
  {
   "cell_type": "markdown",
   "metadata": {},
   "source": [
    "## Select the indice of one of the receptive field size to visualize the rf weight masks at every resolution required by the feature space."
   ]
  },
  {
   "cell_type": "code",
   "execution_count": 20,
   "metadata": {
    "collapsed": false
   },
   "outputs": [
    {
     "data": {
      "image/png": "[encoded data removed]",
      "text/plain": [
       "<matplotlib.figure.Figure at 0x7fe7ee060450>"
      ]
     },
     "metadata": {},
     "output_type": "display_data"
    }
   ],
   "source": [
    "ith_rf_size = 0\n",
    "\n",
    "n = len(fmaps_sizes)\n",
    "plt.figure(figsize=(5*n,5))\n",
    "sigmas = sharedModel_specs[1][2](*sharedModel_specs[0][2])\n",
    "for i,r in enumerate(fmaps_sizes):\n",
    "    _,_,z = pnu.make_gaussian_mass(0., 0., sigmas[ith_rf_size], r[2], size=20.)\n",
    "    plt.subplot(1,n,i+1)\n",
    "    plt.imshow(z, interpolation='None')\n",
    "    plt.colorbar()"
   ]
  },
  {
   "cell_type": "markdown",
   "metadata": {},
   "source": [
    "## Define the model\n",
    "### The model allocates the necessary buffers and pre-compile the theano expressions.\n",
    "### The model can then be used in 2 fashion:\n",
    "1) By precomputing explicitely the modelspace tensor (MST) for all samples and then using the training and validation part of the MST as input to the training and validating function with the argument use_data_as_rfw_data=True.\n",
    "\n",
    "2) By feeding the feature maps directly to the training and validation routines. The modelspace tensor will be computed under the hood. Since this may take an inordinate amount of time with hi-resolution feature maps, it is recommended to use (1).  "
   ]
  },
  {
   "cell_type": "code",
   "execution_count": 19,
   "metadata": {
    "collapsed": false,
    "scrolled": false
   },
   "outputs": [
    {
     "name": "stdout",
     "output_type": "stream",
     "text": [
      "CREATING SYMBOLS\n",
      "\n",
      "> feature map candidates 0 with shape (1, 100, 55, 55)\n",
      "> feature map candidates 1 with shape (1, 100, 27, 27)\n",
      "> feature map candidates 2 with shape (1, 100, 13, 13)\n",
      "> feature map candidates 3 with shape (1, 100, 13, 13)\n",
      "> feature map candidates 4 with shape (1, 100, 13, 13)\n",
      "> feature map candidates 5 with shape (1, 100, 1, 1)\n",
      "> feature map candidates 6 with shape (1, 100, 1, 1)\n",
      "> feature map candidates 7 with shape (1, 100, 1, 1)\n",
      "  total number of feature maps = 4424, in 8 layers\n",
      "  feature map candidate using approx 1.6 Mb of memory (VRAM and RAM)\n",
      "\n",
      "\n",
      "Layer\t: <lasagne.layers.input.InputLayer object at 0x7f4f78198590>\n",
      "Name\t: None\n",
      "Type\t: <class 'lasagne.layers.input.InputLayer'>\n",
      "Shape\t: (None, 4424, 100)\n",
      "\n",
      "\n",
      "Layer\t: <src.pyFWRF.svFWRFLayer object at 0x7f4f78198650>\n",
      "Name\t: None\n",
      "Type\t: <class 'src.pyFWRF.svFWRFLayer'>\n",
      "Shape\t: (None, 300, 100)\n",
      "Params\n",
      "        |-- W         : (4424, 300, 100)\n",
      "        |-- b         : (1, 300, 100)\n",
      "\n",
      "\n",
      "\n",
      "COMPILING...\n",
      "4.50 seconds to compile theano functions\n"
     ]
    }
   ],
   "source": [
    "fwrf = FWRF_model(_fmaps, fmaps_sizes, _invar, fmaps_sizes,\n",
    "    batches_p=(200, ny*nx), batches_o=(200, 300, ny*nx), batches_t=(200, 10*ny*nx),\\\n",
    "    view_angle=lx, verbose=True)"
   ]
  },
  {
   "cell_type": "markdown",
   "metadata": {},
   "source": [
    "## Precompute and save the modelspace tensor"
   ]
  },
  {
   "cell_type": "code",
   "execution_count": 21,
   "metadata": {
    "collapsed": false
   },
   "outputs": [
    {
     "name": "stdout",
     "output_type": "stream",
     "text": [
      "\n",
      ">> Storing the full modelspace tensor will require approx 24.655Gb of RAM!\n",
      ">> Will be divided in chunks of 3.082Gb of VRAM!\n",
      "\n",
      "Precomputing mst candidate responses...\n"
     ]
    },
    {
     "name": "stderr",
     "output_type": "stream",
     "text": [
      "100%|██████████| 8/8 [00:21<00:00,  2.59s/it]"
     ]
    },
    {
     "name": "stdout",
     "output_type": "stream",
     "text": [
      "800 mst candidate responses took 21.221s @ 37.699 models/s\n",
      "Applying nonlinearity to modelspace tensor...\n"
     ]
    },
    {
     "name": "stderr",
     "output_type": "stream",
     "text": [
      "\n",
      "8it [06:09, 46.02s/it]"
     ]
    },
    {
     "name": "stdout",
     "output_type": "stream",
     "text": [
      "Z-scoring modelspace tensor...\n"
     ]
    },
    {
     "name": "stderr",
     "output_type": "stream",
     "text": [
      "\n",
      "8it [01:54, 14.35s/it]"
     ]
    },
    {
     "name": "stdout",
     "output_type": "stream",
     "text": [
      "(1870, 4424, 1, 800)\n"
     ]
    },
    {
     "name": "stderr",
     "output_type": "stream",
     "text": [
      "\n"
     ]
    }
   ],
   "source": [
    "log_act_func = lambda x: np.log(1+np.sqrt(np.abs(x)))\n",
    "log_act_func_2 = lambda x: np.log(np.power(1+np.square(x), 0.25))\n",
    "\n",
    "mst_data = fwrf.precompute_mst_data(fmaps, sharedModel_specs, verbose=True, dry_run=False, nonlinearity=log_act_func_2, \\\n",
    "                                        zscore=True, trn_size=trn_size, epsilon=1e-3)\n",
    "print mst_data.shape"
   ]
  },
  {
   "cell_type": "code",
   "execution_count": 22,
   "metadata": {
    "collapsed": false
   },
   "outputs": [
    {
     "name": "stdout",
     "output_type": "stream",
     "text": [
      "-33.191 352.83\n"
     ]
    }
   ],
   "source": [
    "print np.amin(mst_data), np.amax(mst_data)"
   ]
  },
  {
   "cell_type": "code",
   "execution_count": 23,
   "metadata": {
    "collapsed": true
   },
   "outputs": [],
   "source": [
    "# split the model space tensor into trn and val set.\n",
    "trn_mst_data = mst_data[:trn_size]\n",
    "val_mst_data = mst_data[trn_size:]"
   ]
  },
  {
   "cell_type": "markdown",
   "metadata": {},
   "source": [
    "## Run the models"
   ]
  },
  {
   "cell_type": "code",
   "execution_count": null,
   "metadata": {
    "collapsed": false
   },
   "outputs": [
    {
     "name": "stdout",
     "output_type": "stream",
     "text": [
      "\n",
      "Voxel-Candidates model optimization...\n",
      "1 voxel batches of size 300 with residual 0\n",
      "8 candidate batches of size 100 with residual 0\n",
      "for 240000 voxelmodel fits.\n"
     ]
    },
    {
     "name": "stderr",
     "output_type": "stream",
     "text": [
      "\r",
      "0it [00:00, ?it/s]"
     ]
    },
    {
     "name": "stdout",
     "output_type": "stream",
     "text": [
      "\n",
      "  Voxel 0:300 of 300, Candidate 0:100 of 800\n",
      "    validation <loss>: 0.005640\n",
      "    validation <loss>: 0.005617\n",
      "    validation <loss>: 0.005604\n",
      "    validation <loss>: 0.005595\n",
      "    validation <loss>: 0.005591\n",
      "    validation <loss>: 0.005588\n",
      "    validation <loss>: 0.005587\n",
      "    validation <loss>: 0.005587\n",
      "    validation <loss>: 0.005587\n",
      "    validation <loss>: 0.005588\n",
      "    validation <loss>: 0.005590\n",
      "    validation <loss>: 0.005592\n",
      "    validation <loss>: 0.005595\n",
      "    validation <loss>: 0.005597\n",
      "    validation <loss>: 0.005600\n",
      "    validation <loss>: 0.005603\n",
      "    validation <loss>: 0.005606\n",
      "    validation <loss>: 0.005609\n",
      "    validation <loss>: 0.005612\n",
      "    validation <loss>: 0.005615\n",
      "    validation <loss>: 0.005619\n",
      "    validation <loss>: 0.005622\n",
      "    validation <loss>: 0.005626\n",
      "    validation <loss>: 0.005629\n",
      "    validation <loss>: 0.005633\n",
      "    validation <loss>: 0.005636\n",
      "    validation <loss>: 0.005640\n",
      "    validation <loss>: 0.005643\n",
      "    validation <loss>: 0.005647\n",
      "    validation <loss>: 0.005650\n",
      "    validation <loss>: 0.005654\n",
      "    validation <loss>: 0.005657\n",
      "    validation <loss>: 0.005661\n",
      "    validation <loss>: 0.005664\n",
      "    validation <loss>: 0.005668\n",
      "    validation <loss>: 0.005671\n",
      "    validation <loss>: 0.005675\n",
      "    validation <loss>: 0.005678\n",
      "    validation <loss>: 0.005682\n",
      "    validation <loss>: 0.005686\n",
      "    40 Epoch for 30000 voxelmodels took 79.686s @ 376.477 voxelmodels/s\n",
      "\n",
      "  Voxel 0:300 of 300, Candidate 100:200 of 800\n",
      "    validation <loss>: 0.005637\n",
      "    validation <loss>: 0.005614\n",
      "    validation <loss>: 0.005600\n",
      "    validation <loss>: 0.005592\n",
      "    validation <loss>: 0.005588\n",
      "    validation <loss>: 0.005585\n",
      "    validation <loss>: 0.005584\n",
      "    validation <loss>: 0.005584\n",
      "    validation <loss>: 0.005585\n",
      "    validation <loss>: 0.005586\n",
      "    validation <loss>: 0.005588\n",
      "    validation <loss>: 0.005590\n",
      "    validation <loss>: 0.005592\n",
      "    validation <loss>: 0.005595\n",
      "    validation <loss>: 0.005598\n",
      "    validation <loss>: 0.005601\n",
      "    validation <loss>: 0.005604\n",
      "    validation <loss>: 0.005607\n",
      "    validation <loss>: 0.005610\n",
      "    validation <loss>: 0.005613\n",
      "    validation <loss>: 0.005617\n",
      "    validation <loss>: 0.005620\n",
      "    validation <loss>: 0.005624\n",
      "    validation <loss>: 0.005627\n",
      "    validation <loss>: 0.005631\n",
      "    validation <loss>: 0.005634\n",
      "    validation <loss>: 0.005638\n",
      "    validation <loss>: 0.005641\n",
      "    validation <loss>: 0.005645\n",
      "    validation <loss>: 0.005648\n",
      "    validation <loss>: 0.005652\n",
      "    validation <loss>: 0.005655\n",
      "    validation <loss>: 0.005659\n",
      "    validation <loss>: 0.005663\n",
      "    validation <loss>: 0.005666\n",
      "    validation <loss>: 0.005670\n",
      "    validation <loss>: 0.005673\n",
      "    validation <loss>: 0.005677\n",
      "    validation <loss>: 0.005680\n",
      "    validation <loss>: 0.005684\n",
      "    40 Epoch for 30000 voxelmodels took 79.701s @ 376.406 voxelmodels/s\n",
      "\n",
      "  Voxel 0:300 of 300, Candidate 200:300 of 800\n",
      "    validation <loss>: 0.005635\n",
      "    validation <loss>: 0.005612\n",
      "    validation <loss>: 0.005598\n",
      "    validation <loss>: 0.005590\n",
      "    validation <loss>: 0.005586\n",
      "    validation <loss>: 0.005583\n",
      "    validation <loss>: 0.005582\n",
      "    validation <loss>: 0.005582\n",
      "    validation <loss>: 0.005583\n",
      "    validation <loss>: 0.005585\n",
      "    validation <loss>: 0.005586\n",
      "    validation <loss>: 0.005589\n",
      "    validation <loss>: 0.005591\n",
      "    validation <loss>: 0.005594\n",
      "    validation <loss>: 0.005597\n",
      "    validation <loss>: 0.005600\n",
      "    validation <loss>: 0.005603\n",
      "    validation <loss>: 0.005606\n",
      "    validation <loss>: 0.005609\n",
      "    validation <loss>: 0.005613\n",
      "    validation <loss>: 0.005616\n",
      "    validation <loss>: 0.005619\n",
      "    validation <loss>: 0.005623\n",
      "    validation <loss>: 0.005626\n",
      "    validation <loss>: 0.005630\n",
      "    validation <loss>: 0.005634\n",
      "    validation <loss>: 0.005637\n",
      "    validation <loss>: 0.005641\n",
      "    validation <loss>: 0.005644\n",
      "    validation <loss>: 0.005648\n",
      "    validation <loss>: 0.005651\n",
      "    validation <loss>: 0.005655\n",
      "    validation <loss>: 0.005659\n",
      "    validation <loss>: 0.005662\n",
      "    validation <loss>: 0.005666\n",
      "    validation <loss>: 0.005669\n",
      "    validation <loss>: 0.005673\n",
      "    validation <loss>: 0.005676\n",
      "    validation <loss>: 0.005680"
     ]
    }
   ],
   "source": [
    "val_scores, best_scores, best_abs_models, best_rel_models, best_params, best_avg, best_std = fwrf.shared_model_training(\\\n",
    "    trn_mst_data, trn_voxel_data, sharedModel_specs, voxelParams,\\\n",
    "    val_test_size=350, lr=1e-4, l2=0., num_epochs=40, output_val_scores=True, verbose=True, dry_run=False)"
   ]
  },
  {
   "cell_type": "markdown",
   "metadata": {},
   "source": [
    "## Show a coarse distribution of position and sizes of the selected RFs"
   ]
  },
  {
   "cell_type": "code",
   "execution_count": null,
   "metadata": {
    "collapsed": false
   },
   "outputs": [],
   "source": [
    "plt.figure(figsize=(10,5))\n",
    "plt.subplot(1,2,1)\n",
    "_,_,g_stack = pnu.make_gaussian_stack(best_abs_models[:,0], best_abs_models[:,1], best_abs_models[:,2], 64, size=20., dtype=fpX)\n",
    "plt.imshow(np.sum(g_stack, axis=0), interpolation='None')\n",
    "plt.subplot(1,2,2)\n",
    "_=plt.hist(best_abs_models[:,2], bins=50)\n",
    "plt.yscale('log')"
   ]
  },
  {
   "cell_type": "markdown",
   "metadata": {},
   "source": [
    "## If output_val_scores was set to True, display the validation score for all candidate of one voxels and the time series of the best candidates for all voxels."
   ]
  },
  {
   "cell_type": "code",
   "execution_count": null,
   "metadata": {
    "collapsed": false
   },
   "outputs": [],
   "source": [
    "vidx = 266\n",
    "print best_abs_models[vidx,:]\n",
    "fig1 = display_candidate_loss(val_scores[-1,vidx,:], nx, ny, ns)"
   ]
  },
  {
   "cell_type": "code",
   "execution_count": null,
   "metadata": {
    "collapsed": false
   },
   "outputs": [],
   "source": [
    "for v in range(val_scores.shape[1]):\n",
    "    plt.plot(val_scores[:,v,best_rel_models[v]])"
   ]
  },
  {
   "cell_type": "markdown",
   "metadata": {},
   "source": [
    "## Validate the best models and display the distribution of prediction accuracy."
   ]
  },
  {
   "cell_type": "code",
   "execution_count": null,
   "metadata": {
    "collapsed": false
   },
   "outputs": [],
   "source": [
    "val_pred, val_cc = fwrf.validate_models(val_mst_data, val_voxel_data, best_rel_models, best_params)"
   ]
  },
  {
   "cell_type": "code",
   "execution_count": null,
   "metadata": {
    "collapsed": false
   },
   "outputs": [],
   "source": [
    "print \"max cc = %f\" % np.max(val_cc)\n",
    "print \"sum(cc>0.2) = %d\" % np.sum(map(lambda x: x > 0.2, val_cc))\n",
    "plt.figure(figsize=(10,5))\n",
    "_=plt.hist(val_cc[:], bins=100, range=(-.5, 1.))\n",
    "plt.yscale('log')\n",
    "plt.ylim([10**-1, 10**3])\n",
    "plt.xlim([-.4, 0.9])"
   ]
  },
  {
   "cell_type": "code",
   "execution_count": 30,
   "metadata": {
    "collapsed": false
   },
   "outputs": [
    {
     "name": "stdout",
     "output_type": "stream",
     "text": [
      "[[ 1.          0.82960858]\n",
      " [ 0.82960858  1.        ]]\n"
     ]
    },
    {
     "data": {
      "image/png": "[encoded data removed]",
      "text/plain": [
       "<matplotlib.figure.Figure at 0x7f4f4360ecd0>"
      ]
     },
     "metadata": {},
     "output_type": "display_data"
    }
   ],
   "source": [
    "plt.plot(val_pred[:,vidx])\n",
    "plt.plot(val_voxel_data[:,vidx])\n",
    "\n",
    "print np.corrcoef(val_pred[:,vidx], val_voxel_data[:,vidx])"
   ]
  },
  {
   "cell_type": "markdown",
   "metadata": {},
   "source": [
    "## Save the results"
   ]
  },
  {
   "cell_type": "code",
   "execution_count": 32,
   "metadata": {
    "collapsed": false
   },
   "outputs": [
    {
     "name": "stdout",
     "output_type": "stream",
     "text": [
      "fwrf_deepnet_S2_May-06-2017_1225_data.pkl\n"
     ]
    }
   ],
   "source": [
    "ex_file_name = \"fwrf_%s_%s_%s_data.pkl\" % (model_name, subject, timestamp)\n",
    "ex_file = open(output_dir + ex_file_name, 'wb')\n",
    "ex_values = {'dataset': 'vim-1',\n",
    "             'subject': subject,\n",
    "             'model_name': model_name,\n",
    "             'grid': [sharedModel_specs[1][0](*sharedModel_specs[0][0]), \n",
    "                      sharedModel_specs[1][1](*sharedModel_specs[0][1]),\n",
    "                      sharedModel_specs[1][2](*sharedModel_specs[0][2])],\n",
    "             'fmaps_res_count': fmaps_res_count,\n",
    "             'fmaps_count': fmaps_count,\n",
    "             'fmaps_sizes': fmaps_sizes,      \n",
    "             'scores': best_scores,\n",
    "             'models': best_abs_models,\n",
    "             'params': best_params,\n",
    "             'normavg': best_avg,\n",
    "             'normstd': best_std, \n",
    "             'val_pred': val_pred,\n",
    "             'val_cc': val_cc}\n",
    "pickle.dump(ex_values, ex_file)\n",
    "ex_file.close()\n",
    "print ex_file_name"
   ]
  },
  {
   "cell_type": "markdown",
   "metadata": {
    "collapsed": true
   },
   "source": [
    "# Split accuracy by layer and roi"
   ]
  },
  {
   "cell_type": "code",
   "execution_count": 33,
   "metadata": {
    "collapsed": false
   },
   "outputs": [
    {
     "name": "stdout",
     "output_type": "stream",
     "text": [
      "[0, 96, 352, 736, 1120, 1376, 2400, 3424, 4424]\n"
     ]
    }
   ],
   "source": [
    "#find the start and end point of the feature map partitions\n",
    "fmaps_count = len(fmaps_sizes)\n",
    "partitions = [0,]\n",
    "for r in fmaps_sizes:\n",
    "    partitions += [partitions[-1]+r[1],]\n",
    "print partitions"
   ]
  },
  {
   "cell_type": "code",
   "execution_count": 34,
   "metadata": {
    "collapsed": false,
    "scrolled": false
   },
   "outputs": [
    {
     "name": "stdout",
     "output_type": "stream",
     "text": [
      "9 voxel batches of size 2250 with residual 1006\n"
     ]
    },
    {
     "name": "stderr",
     "output_type": "stream",
     "text": [
      "10it [03:41, 22.06s/it]"
     ]
    },
    {
     "name": "stdout",
     "output_type": "stream",
     "text": [
      "9 voxel batches of size 2250 with residual 1006\n"
     ]
    },
    {
     "name": "stderr",
     "output_type": "stream",
     "text": [
      "\n",
      "10it [03:40, 22.10s/it]"
     ]
    },
    {
     "name": "stdout",
     "output_type": "stream",
     "text": [
      "9 voxel batches of size 2250 with residual 1006\n"
     ]
    },
    {
     "name": "stderr",
     "output_type": "stream",
     "text": [
      "\n",
      "10it [03:40, 22.05s/it]"
     ]
    },
    {
     "name": "stdout",
     "output_type": "stream",
     "text": [
      "9 voxel batches of size 2250 with residual 1006\n"
     ]
    },
    {
     "name": "stderr",
     "output_type": "stream",
     "text": [
      "\n",
      "10it [03:40, 22.11s/it]"
     ]
    },
    {
     "name": "stdout",
     "output_type": "stream",
     "text": [
      "9 voxel batches of size 2250 with residual 1006\n"
     ]
    },
    {
     "name": "stderr",
     "output_type": "stream",
     "text": [
      "\n",
      "10it [03:40, 22.01s/it]"
     ]
    },
    {
     "name": "stdout",
     "output_type": "stream",
     "text": [
      "9 voxel batches of size 2250 with residual 1006\n"
     ]
    },
    {
     "name": "stderr",
     "output_type": "stream",
     "text": [
      "\n",
      "10it [03:40, 22.10s/it]"
     ]
    },
    {
     "name": "stdout",
     "output_type": "stream",
     "text": [
      "9 voxel batches of size 2250 with residual 1006\n"
     ]
    },
    {
     "name": "stderr",
     "output_type": "stream",
     "text": [
      "\n",
      "10it [03:40, 22.09s/it]"
     ]
    },
    {
     "name": "stdout",
     "output_type": "stream",
     "text": [
      "9 voxel batches of size 2250 with residual 1006\n"
     ]
    },
    {
     "name": "stderr",
     "output_type": "stream",
     "text": [
      "\n",
      "10it [03:40, 21.99s/it]\n"
     ]
    }
   ],
   "source": [
    "partition_val_pred = np.ndarray(shape=(fmaps_count,)+val_pred.shape, dtype=fpX)\n",
    "partition_val_cc   = np.ndarray(shape=(fmaps_count,)+val_cc.shape, dtype=fpX)\n",
    "\n",
    "for l in range(fmaps_count):\n",
    "    partition_params = [np.zeros(p.shape, dtype=fpX) for p in best_params]  \n",
    "    partition_params[0][:, partitions[l]:partitions[l+1]] = best_params[0][:, partitions[l]:partitions[l+1]]\n",
    "    partition_params[1][:] = best_params[1][:]\n",
    "\n",
    "    partition_val_pred[l,...], partition_val_cc[l,...] = fwrf.validate_models(val_mst_data, val_voxel_data, best_rel_models, partition_params)"
   ]
  },
  {
   "cell_type": "code",
   "execution_count": 35,
   "metadata": {
    "collapsed": false
   },
   "outputs": [],
   "source": [
    "# calculate covariances\n",
    "partition_r = np.ndarray(shape=(fmaps_count, nv))\n",
    "for v in range(nv):\n",
    "    full_c = np.cov(val_pred[:,v], val_voxel_data[:,v])\n",
    "    for l in range(fmaps_count):\n",
    "        part_c = np.cov(partition_val_pred[l,:,v], val_voxel_data[:,v])\n",
    "        partition_r[l,v] = part_c[0,1]/np.sqrt(full_c[0,0]*full_c[1,1])"
   ]
  },
  {
   "cell_type": "code",
   "execution_count": 36,
   "metadata": {
    "collapsed": false
   },
   "outputs": [],
   "source": [
    "part_file = open(output_dir + \"fwrf_%s_%s_%s_part.pkl\" % (model_name, subject, timestamp), 'wb')\n",
    "part_values = {'dataset': 'vim-1',\n",
    "             'subject': subject,\n",
    "             'model_name': model_name,\n",
    "             'val_pred': partition_val_pred,\n",
    "             'val_cc': partition_val_cc,\n",
    "             'val_ri': partition_r}\n",
    "pickle.dump(part_values, part_file)\n",
    "part_file.close()"
   ]
  },
  {
   "cell_type": "code",
   "execution_count": 39,
   "metadata": {
    "collapsed": false
   },
   "outputs": [],
   "source": [
    "nROI = int(np.max(voxelROI))+1\n",
    "nL   = fmaps_count\n",
    "\n",
    "partition_R_avg = np.ndarray(shape=(fmaps_count, nROI), dtype=fpX)\n",
    "partition_R_std = np.ndarray(shape=(fmaps_count, nROI), dtype=fpX)\n",
    "for roi in range(nROI):\n",
    "    roi_mask = np.logical_and(voxelROI.flatten()==roi, val_cc>0.27)    \n",
    "    for l in range(fmaps_count):\n",
    "        partition_R_avg[l,roi] = np.mean(partition_r[l, roi_mask] /  val_cc[roi_mask])\n",
    "        partition_R_std[l,roi] = np.std(partition_r[l, roi_mask])\n",
    "#plt.imshow(partition_R_avg, interpolation='None')"
   ]
  },
  {
   "cell_type": "code",
   "execution_count": 40,
   "metadata": {
    "collapsed": false
   },
   "outputs": [
    {
     "data": {
      "text/plain": [
       "<matplotlib.text.Text at 0x7f6b54c0b9d0>"
      ]
     },
     "execution_count": 40,
     "metadata": {},
     "output_type": "execute_result"
    },
    {
     "data": {
      "image/png": "[encoded data removed]",
      "text/plain": [
       "<matplotlib.figure.Figure at 0x7f7acea41390>"
      ]
     },
     "metadata": {},
     "output_type": "display_data"
    }
   ],
   "source": [
    "from matplotlib.pyplot import cm \n",
    "color=iter(cm.magma(np.linspace(0,1,nL)))\n",
    "\n",
    "plt.figure(figsize=(20,10))\n",
    "c=next(color)\n",
    "plist = []\n",
    "_ = plt.bar(np.arange(len(roi_names)), partition_R_avg[0,:], yerr=partition_R_std[0,:], color=c, align='center')\n",
    "plist += [_,]\n",
    "for l in range(1,nL):\n",
    "    c=next(color)\n",
    "    _= plt.bar(np.arange(len(roi_names)), partition_R_avg[l,:], bottom=np.sum(partition_R_avg[:l,:],axis=0), yerr=partition_R_std[l,:], color=c,\\\n",
    "        align='center', tick_label=roi_names)\n",
    "    plist += [_,]\n",
    "plt.legend(plist, ['layer %d' % l for l in range(1,len(plist)+1)])\n",
    "plt.ylim([0,1])\n",
    "plt.ylabel('Layer contribution to total prediction accuracy\\n (averaged over voxels in roi)')"
   ]
  },
  {
   "cell_type": "code",
   "execution_count": null,
   "metadata": {
    "collapsed": true
   },
   "outputs": [],
   "source": []
  }
 ],
 "metadata": {
  "kernelspec": {
   "display_name": "Python 2",
   "language": "python",
   "name": "python2"
  },
  "language_info": {
   "codemirror_mode": {
    "name": "ipython",
    "version": 2
   },
   "file_extension": ".py",
   "mimetype": "text/x-python",
   "name": "python",
   "nbconvert_exporter": "python",
   "pygments_lexer": "ipython2",
   "version": "2.7.6"
  }
 },
 "nbformat": 4,
 "nbformat_minor": 0
}
